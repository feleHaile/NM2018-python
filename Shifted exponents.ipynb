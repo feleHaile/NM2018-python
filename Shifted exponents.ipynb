{
 "cells": [
  {
   "cell_type": "markdown",
   "metadata": {},
   "source": [
    "# Shifted exponents "
   ]
  },
  {
   "cell_type": "markdown",
   "metadata": {},
   "source": [
    "Some confusion arose from this figure which I took from Wikipedia\n",
    "\n",
    "![wikipedia](https://upload.wikimedia.org/wikipedia/commons/thumb/d/d2/Float_example.svg/590px-Float_example.svg.png)\n",
    "\n",
    "if you add up all the bits in the exponent, you'll find that the decimal value the exponent represents equals 124. The value of the mantissa is\n",
    "\n",
    "$$1.m_2 = 1.01_2 = 1.25_{10}$$\n",
    "\n",
    "where subscripts indicate the base (grondtal) of the number. Plugging exponent and mantissa into the formula from the tutorial\n",
    "\n",
    "$$\\pm 1.m \\cdot 2^e$$\n",
    "\n",
    "you'll end up with a number quite different than the stated 0.15625. \n",
    "\n",
    "This is explained by the different *encoding* in the Wikipedia example, compared to ours. In \"our\" encoding I mentioned that we have to reserve one bit in the exponent for the exponent sign, in order to allow for \"small\" numbers with negative exponents. In reality, the implementation of negative exponents is often different. Instead of reserving a sign bit, the entire exponent is shifted by a fixed shift value (or ***bias***) of typically 127 (1023 for doubles). The range of the shifted exponent is therefore unsigned $[0,2^{8}-1] = [0,255]$ and that of the unshifted exponent is signed $[0,255] - 127 = [-127,128]$. Applying the exponent shift on the Wikipedia example yields $1.25_{10} \\cdot 2^{124-127} = 0.15625$."
   ]
  },
  {
   "cell_type": "code",
   "execution_count": null,
   "metadata": {},
   "outputs": [],
   "source": []
  }
 ],
 "metadata": {
  "kernelspec": {
   "display_name": "Python [default]",
   "language": "python",
   "name": "python3"
  },
  "language_info": {
   "codemirror_mode": {
    "name": "ipython",
    "version": 3
   },
   "file_extension": ".py",
   "mimetype": "text/x-python",
   "name": "python",
   "nbconvert_exporter": "python",
   "pygments_lexer": "ipython3",
   "version": "3.6.4"
  }
 },
 "nbformat": 4,
 "nbformat_minor": 2
}
