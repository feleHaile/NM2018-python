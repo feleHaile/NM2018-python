{
 "cells": [
  {
   "cell_type": "markdown",
   "metadata": {},
   "source": [
    "# The largest `float64` value"
   ]
  },
  {
   "cell_type": "markdown",
   "metadata": {},
   "source": [
    "To keep things easy, I left out some nasty details about the implementation of floating point numbers. One of these details is the shifted exponent (see other notebook) which kind of replaces the sign bit for exponents. The unsigned 11 bit double precision floating point exponent is shifted by -1023 to give a signed range"
   ]
  },
  {
   "cell_type": "code",
   "execution_count": 66,
   "metadata": {},
   "outputs": [
    {
     "data": {
      "text/plain": [
       "array([-1023,  1024])"
      ]
     },
     "execution_count": 66,
     "metadata": {},
     "output_type": "execute_result"
    }
   ],
   "source": [
    "np.asarray((0, 2**11-1)) - 1023"
   ]
  },
  {
   "cell_type": "markdown",
   "metadata": {},
   "source": [
    "Another nasty detail is the existence of ***reserved*** exponent values. There are 2 reserved exponent values that are not available for computations, \n",
    "\n",
    "exponent value|shifted value|meaning\n",
    "---|---|---\n",
    "0|-1023|mantissa has no leading 1, i.e. $0.m$ instead of $1.m$ <br> NB: exponent value of -1022 is assumed\n",
    "$2^{11}-1$|1024|used for infinity and NaN\n",
    "\n",
    "as described e.g. [here](https://stackoverflow.com/a/15443950/2054592). The second columns indicates the signed (unbiased) exponent values as explained above. One major implication of this is that you can't do the following computation"
   ]
  },
  {
   "cell_type": "code",
   "execution_count": 68,
   "metadata": {},
   "outputs": [
    {
     "ename": "OverflowError",
     "evalue": "(34, 'Result too large')",
     "output_type": "error",
     "traceback": [
      "\u001b[0;31m---------------------------------------------------------------------------\u001b[0m",
      "\u001b[0;31mOverflowError\u001b[0m                             Traceback (most recent call last)",
      "\u001b[0;32m<ipython-input-68-2664e7a9cb23>\u001b[0m in \u001b[0;36m<module>\u001b[0;34m()\u001b[0m\n\u001b[0;32m----> 1\u001b[0;31m \u001b[0;36m2.0\u001b[0m\u001b[0;34m**\u001b[0m\u001b[0;36m1024\u001b[0m\u001b[0;34m\u001b[0m\u001b[0m\n\u001b[0m",
      "\u001b[0;31mOverflowError\u001b[0m: (34, 'Result too large')"
     ]
    }
   ],
   "source": [
    "2.0**1024"
   ]
  },
  {
   "cell_type": "markdown",
   "metadata": {},
   "source": [
    "but you can do"
   ]
  },
  {
   "cell_type": "code",
   "execution_count": 74,
   "metadata": {},
   "outputs": [
    {
     "data": {
      "text/plain": [
       "1.7976931258738503e+308"
      ]
     },
     "execution_count": 74,
     "metadata": {},
     "output_type": "execute_result"
    }
   ],
   "source": [
    "1.99999999 * 2.**1023"
   ]
  },
  {
   "cell_type": "markdown",
   "metadata": {},
   "source": [
    "which is a number very close to $2^{1024}$, but doesn't require the exponent of 1024 because all the 9s are stored in the mantissa."
   ]
  },
  {
   "cell_type": "markdown",
   "metadata": {},
   "source": [
    "# More details "
   ]
  },
  {
   "cell_type": "markdown",
   "metadata": {},
   "source": [
    "Module `sys` has some built-in information about the (64-bit) floating point type on your system."
   ]
  },
  {
   "cell_type": "code",
   "execution_count": 50,
   "metadata": {},
   "outputs": [
    {
     "data": {
      "text/plain": [
       "sys.float_info(max=1.7976931348623157e+308, max_exp=1024, max_10_exp=308, min=2.2250738585072014e-308, min_exp=-1021, min_10_exp=-307, dig=15, mant_dig=53, epsilon=2.220446049250313e-16, radix=2, rounds=1)"
      ]
     },
     "execution_count": 50,
     "metadata": {},
     "output_type": "execute_result"
    }
   ],
   "source": [
    "import sys\n",
    "sys.float_info"
   ]
  },
  {
   "cell_type": "markdown",
   "metadata": {},
   "source": [
    "Note that the `max` value is the same as that we computed just above. The `max_exp` entry is defined as _maximum integer e such that radix**(e-1) is a representable finite float_ (see [documentation](https://docs.python.org/2/library/sys.html)). This agrees well with them maximum exponent of 1023 that we found above. Similar for `min_exp`, which corresponds to a minimum exponent of -1022, because -1023 is reserved.\n"
   ]
  }
 ],
 "metadata": {
  "kernelspec": {
   "display_name": "Python [default]",
   "language": "python",
   "name": "python3"
  },
  "language_info": {
   "codemirror_mode": {
    "name": "ipython",
    "version": 3
   },
   "file_extension": ".py",
   "mimetype": "text/x-python",
   "name": "python",
   "nbconvert_exporter": "python",
   "pygments_lexer": "ipython3",
   "version": "3.6.4"
  }
 },
 "nbformat": 4,
 "nbformat_minor": 2
}
