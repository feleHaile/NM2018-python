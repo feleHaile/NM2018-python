{
 "cells": [
  {
   "cell_type": "markdown",
   "metadata": {
    "nbpresent": {
     "id": "e8d94b0e-478d-44c8-ad0c-f0672fb4c986"
    }
   },
   "source": [
    "## [NM2018] Numerical computing in Python tutorial"
   ]
  },
  {
   "cell_type": "markdown",
   "metadata": {
    "nbpresent": {
     "id": "60934ae2-267e-49ad-83dd-3a99157a4d91"
    }
   },
   "source": [
    "_Leo van Kampenhout — Institute for Marine and Atmospheric physics Utrecht (IMAU) — [email](mailto:L.vankampenhout@uu.nl) — [website](http://www.uu.nl/staff/LvanKampenhout/0)_ "
   ]
  },
  {
   "cell_type": "markdown",
   "metadata": {
    "nbpresent": {
     "id": "d45aa25e-120e-4742-8041-29a648aa41a8"
    }
   },
   "source": [
    "This tutorial starts with some background information on how numbers are internally represented on modern computers. Then we discuss Python language specifics and how to implement *logic* and *flow control*. The numerical library ***Numpy*** is then introduced and we finish by learning how to make plots using ***Matplotlib***.\n",
    "\n",
    "A more complete overview of the capabilities of Python, Numpy and Matplotlib can be found online in the [Lectures on scientific computing with Python](http://jrjohansson.github.io/computing.html) by J.R. Johansson. It is suggested that you use these lectures as a reference.\n",
    "\n",
    "\n",
    "The exercises are to be done individually, in class or at home. I recommend working in either the Spyder IDE or in a interactive Jupyter notebook, both of which come with the Anaconda Python distribution: https://www.continuum.io/downloads."
   ]
  },
  {
   "cell_type": "markdown",
   "metadata": {},
   "source": [
    "# Part 0 - calculator\n",
    "Python can be used as a calculator by just entering arithmetic statements in an interactive session, like in a IPython console (Spider IDE) or a Jupyter notebook:"
   ]
  },
  {
   "cell_type": "code",
   "execution_count": 112,
   "metadata": {},
   "outputs": [
    {
     "data": {
      "text/plain": [
       "3.5"
      ]
     },
     "execution_count": 112,
     "metadata": {},
     "output_type": "execute_result"
    }
   ],
   "source": [
    "(5 + 2) / 2"
   ]
  },
  {
   "cell_type": "markdown",
   "metadata": {},
   "source": [
    "The following operators are available: \n",
    "\n",
    "operation | symbol\n",
    "--- | :---:\n",
    "addition | `+`\n",
    "subtraction | `-`\n",
    "multiplication | `*`\n",
    "division  | `/`\n",
    "power | `**`\n",
    "integer division | `//`\n",
    "modulo | `%`\n"
   ]
  },
  {
   "cell_type": "markdown",
   "metadata": {},
   "source": [
    "The scientific `e` notation is supported, where `2e13` means $2 \\cdot 10^{13}$ and `3e-4` means $3 \\cdot 10^{-4}$."
   ]
  },
  {
   "cell_type": "code",
   "execution_count": 16,
   "metadata": {},
   "outputs": [
    {
     "data": {
      "text/plain": [
       "True"
      ]
     },
     "execution_count": 16,
     "metadata": {},
     "output_type": "execute_result"
    }
   ],
   "source": [
    "2e13 == 2*10**13"
   ]
  },
  {
   "cell_type": "markdown",
   "metadata": {},
   "source": [
    "**Heads up.** In Jupyter, if you enter multiple statements at once, only the result of the last statement will be returned. There are a number of ways around that:\n",
    "\n",
    "* wrap the statements in the `print()` built-in function, which displays the answer as text\n",
    "* separate the statements by commas\n",
    "* create a new cell for each statement"
   ]
  },
  {
   "cell_type": "code",
   "execution_count": 114,
   "metadata": {},
   "outputs": [
    {
     "data": {
      "text/plain": [
       "4"
      ]
     },
     "execution_count": 114,
     "metadata": {},
     "output_type": "execute_result"
    }
   ],
   "source": [
    "1+1\n",
    "2+2"
   ]
  },
  {
   "cell_type": "code",
   "execution_count": 115,
   "metadata": {},
   "outputs": [
    {
     "name": "stdout",
     "output_type": "stream",
     "text": [
      "2\n",
      "4\n"
     ]
    }
   ],
   "source": [
    "print(1+1)\n",
    "print(2+2)"
   ]
  },
  {
   "cell_type": "code",
   "execution_count": 116,
   "metadata": {},
   "outputs": [
    {
     "data": {
      "text/plain": [
       "(2, 4)"
      ]
     },
     "execution_count": 116,
     "metadata": {},
     "output_type": "execute_result"
    }
   ],
   "source": [
    "1+1, 2+2"
   ]
  },
  {
   "cell_type": "markdown",
   "metadata": {},
   "source": [
    "Inline comments can be added and must be preceded by the '#' sign."
   ]
  },
  {
   "cell_type": "code",
   "execution_count": 2,
   "metadata": {},
   "outputs": [
    {
     "name": "stdout",
     "output_type": "stream",
     "text": [
      "2\n"
     ]
    }
   ],
   "source": [
    "print(1+1) # trivial calculation"
   ]
  },
  {
   "cell_type": "markdown",
   "metadata": {},
   "source": [
    "# Part 1 - Data types"
   ]
  },
  {
   "cell_type": "markdown",
   "metadata": {
    "nbpresent": {
     "id": "b41c45bd-6eff-44bd-a8a0-274288995252"
    }
   },
   "source": [
    "## Bits and bytes\n",
    "Present-day computers are binary machines that operate on information that is base 2, which means that the information is expressed in just zeros and ones. The smallest entity of binary information is the *bit*. The bit consists of just a single binary digit and therefore can have only two states: 0 or 1. Eight bits taken together make up a *byte*, which is the second smallest entity of binary information. \n"
   ]
  },
  {
   "cell_type": "markdown",
   "metadata": {
    "nbpresent": {
     "id": "2b83e79c-e4b5-46b2-9651-82e90f2f83a5"
    }
   },
   "source": [
    "**Example.** Consider the byte 01101011 and let's assume it represents a number. Starting from the right, the first `1` encoutered corresponds to $2^0 = 1$, just like the last digit in a decimal number corresponds to $10^0 = 1$. The second rightmost digit (`1`) multiplies with $2^1 = 2$. The encoded numerical value of this byte is therefore:\n",
    "\n",
    "$0 \\cdot 2^7 + 1 \\cdot 2^6 + 1 \\cdot 2^5 + 0 \\cdot 2^4 + 1 \\cdot 2^3 + 0 \\cdot 2^2 + 1 \\cdot 2^1 + 1 \\cdot 2^0 = 107$"
   ]
  },
  {
   "cell_type": "markdown",
   "metadata": {},
   "source": [
    "**Exercise 1.1 (bytes)** \n",
    "1. What is the largest numerical value you can encode in a byte this way?\n",
    "2. What is the total number of possible states for the byte? \n",
    "3. The Latin alphabet as used in The Netherlands has 26 characters ('states'). Considering both lower and upper case characters and 30 punctuation marks, is the byte large enough to encode the alphabet? "
   ]
  },
  {
   "cell_type": "markdown",
   "metadata": {
    "nbpresent": {
     "id": "266eb26d-a8f2-4159-a806-16b1754bea9f"
    }
   },
   "source": [
    "## Floating point numbers\n",
    "In scientific computing, we are not so much interested in characters but rather in decimal numbers (base 10 or ’real’ numbers) that we can relate to the physical world. For these kind of computations, a byte does not offer enough data states or *precision*, so larger data types are needed. Note that here ’data’ is synonymous to ’information’ and ’type’ to ’entity’ – this is the lingo that computer scientists use.\n",
    "\n",
    "Typically, real numbers on a computer are made up of either 4 bytes (single precision) or 8 bytes (double precision), which correspond to 32 or 64 bits, respectively. Real numbers encoded in this binary form are referred to as _floating point numbers_ or simply _floats_. In standard Python, the `float` datatype is of double precision. \n",
    "\n",
    "In the Numpy library, which will be discussed in-depth later, different floating point data types are named after their bitsize: `float32` for single precision and `float64` for double precision."
   ]
  },
  {
   "cell_type": "code",
   "execution_count": 330,
   "metadata": {},
   "outputs": [
    {
     "data": {
      "text/plain": [
       "(numpy.float32, 4, numpy.float64, 8)"
      ]
     },
     "execution_count": 330,
     "metadata": {},
     "output_type": "execute_result"
    }
   ],
   "source": [
    "import numpy as np\n",
    "x=np.float32(1) # create variable of type float32\n",
    "y=np.float64(1) # create variable of type float64\n",
    "type(x), x.nbytes, type(y), y.nbytes"
   ]
  },
  {
   "cell_type": "markdown",
   "metadata": {
    "nbpresent": {
     "id": "f464431d-3e07-4383-bbd2-064364f56adf"
    }
   },
   "source": [
    "**Example.** Note that we can rewrite $110.1001$ as $1.101001 \\cdot 2^2$"
   ]
  },
  {
   "cell_type": "markdown",
   "metadata": {
    "nbpresent": {
     "id": "0dbbaa8a-6bdb-41aa-be64-36cf386fbf2e"
    }
   },
   "source": [
    "Now let us write any binary floating point number as\n",
    "$$\\pm 1.m \\cdot 2^e$$\n",
    "with ***mantissa*** m (’significant digits’) and exponent e. Note that this resembles the scientific notation of a decimal number, except that here the base is different (2 instead of 10). Of the 32 bits of a `float32` number, 1 bit is reserved for the sign, 23 bits for the mantissa, and the remaining 8 make up the exponent. Note that the effective precision of the mantissa is 24 bits because the leading binary ’1’ of the mantissa is implicit (Eqn. (1)). The `float` and `float64` have an effective mantissa of 53 bits and an exponent of 11 bits. The base number need not be stored since it is assumed the same on all modern computers."
   ]
  },
  {
   "cell_type": "markdown",
   "metadata": {},
   "source": [
    "![wikipedia](https://upload.wikimedia.org/wikipedia/commons/thumb/d/d2/Float_example.svg/590px-Float_example.svg.png)"
   ]
  },
  {
   "cell_type": "markdown",
   "metadata": {
    "nbpresent": {
     "id": "161cc24b-dd33-49c9-93b0-2ee602f9069d"
    }
   },
   "source": [
    "**Exercise 1.2 (floats)**\n",
    "Naturally, there are certain limitations to the precision of the mantissa and the range of the exponent. In this exercise we explore these limitations.\n",
    "\n",
    "1. How many permutations or different states does a 24-bit mantissa have?\n",
    "\n",
    "2. With one decimal digit one can produce 10 numbers (0-9). With two available digits this grows to 100. How many decimal numbers can one encode with a 24-bit mantissa?\n",
    "3.  A double precision floating point number has an effective mantissa of 53 bits. How many decimal numbers can one encode with this?\n",
    "4. Execute the following commands in interactive mode (IPython console):\n",
    "```\n",
    " 1.0 + 1e-15\n",
    " 1.0 + 1e-16\n",
    "```\n",
    "which are by default performed in 64-bits (double precision). Explain the results using your answer at part (c).\n",
    "5. In order to be useful, the 8-bit exponent must cover both negative (’small’) to positive (’big’) values. This means that 1 bit has to be reserved for the exponent sign, and we are effectively left with just 7 bits. What is the number of permutations or states one can make with 7 bits?\n",
    "1. Verify that the largest decimal number one can make with a 7-digit binary exponent is around $10^{38}$. Take into account the base change. What is the largest decimal number one can make in double precision?"
   ]
  },
  {
   "cell_type": "code",
   "execution_count": 118,
   "metadata": {
    "nbpresent": {
     "id": "e5d97e72-5149-4762-b7b6-92825485f9d2"
    }
   },
   "outputs": [
    {
     "data": {
      "text/plain": [
       "1.000000000000001"
      ]
     },
     "execution_count": 118,
     "metadata": {},
     "output_type": "execute_result"
    }
   ],
   "source": [
    "1.0 + 1e-15"
   ]
  },
  {
   "cell_type": "code",
   "execution_count": 119,
   "metadata": {
    "nbpresent": {
     "id": "0ce43821-eee1-47b0-9a6a-4a5666aa69b4"
    }
   },
   "outputs": [
    {
     "data": {
      "text/plain": [
       "1.0"
      ]
     },
     "execution_count": 119,
     "metadata": {},
     "output_type": "execute_result"
    }
   ],
   "source": [
    "1.0 + 1e-16"
   ]
  },
  {
   "cell_type": "markdown",
   "metadata": {
    "nbpresent": {
     "id": "c45c8e0d-2213-402f-a165-c5c7d10d1f48"
    }
   },
   "source": [
    "**Remark.** When the limits of the exponent are exceeded, a floating point number becomes infinite (’inf’) or not-a-number (’NaN’). Just be aware that this can happen, and remember that it usually indicates a programming error."
   ]
  },
  {
   "cell_type": "code",
   "execution_count": 120,
   "metadata": {},
   "outputs": [
    {
     "data": {
      "text/plain": [
       "inf"
      ]
     },
     "execution_count": 120,
     "metadata": {},
     "output_type": "execute_result"
    }
   ],
   "source": [
    "1.0e400 # 1 * 10^400"
   ]
  },
  {
   "cell_type": "markdown",
   "metadata": {
    "nbpresent": {
     "id": "0274bf66-1b2f-4cf0-b593-2617bdea44d0"
    }
   },
   "source": [
    "## Integers\n",
    "Just as the floating point numbers are the computer representation of $\\mathbb{R}$, the set of whole-valued numbers $\\mathbb{Z}$ is represented in the data type of integers. In numerical computing, integers are often just used in trivial ways, so we won’t go into their details here. It suffices to say that like floating points, there are 32-bit integers (Python: `np.int32`) and 64-bit integers (`int`, `np.int64`).\n"
   ]
  },
  {
   "cell_type": "markdown",
   "metadata": {
    "nbpresent": {
     "id": "1182525c-6a0a-4c67-99a5-1dac85a08823"
    }
   },
   "source": [
    "## Variables\n",
    "A variable is not a data type, rather it the feature by which names can be used to store any data type -- even data types that you may have created yourself. Some examples:"
   ]
  },
  {
   "cell_type": "code",
   "execution_count": 121,
   "metadata": {
    "nbpresent": {
     "id": "39b4ff27-c371-479b-9132-7c28178a76e7"
    }
   },
   "outputs": [],
   "source": [
    "x = 1.0\n",
    "y = 10 \n",
    "z = x*2 \n",
    "do_work = True"
   ]
  },
  {
   "cell_type": "markdown",
   "metadata": {
    "nbpresent": {
     "id": "97288d2b-31b0-492c-9e74-136d8431f5d0"
    }
   },
   "source": [
    "Here we defined a floating point variable (`x`), an integer variable (`y`), another floating point variable (`z`) and finally a boolean (`do_work`) variable. We did not need to declare the type of the variable prior to defining it, as Python uses dynamical typing for that (it infers the data type from the assigned value). One can inspect the data type of a variable by calling the built-in function `type()`\n"
   ]
  },
  {
   "cell_type": "code",
   "execution_count": 122,
   "metadata": {
    "nbpresent": {
     "id": "b986c7bd-45b5-4fbf-a425-bbb242845f04"
    }
   },
   "outputs": [
    {
     "data": {
      "text/plain": [
       "int"
      ]
     },
     "execution_count": 122,
     "metadata": {},
     "output_type": "execute_result"
    }
   ],
   "source": [
    "type(y)"
   ]
  },
  {
   "cell_type": "markdown",
   "metadata": {
    "nbpresent": {
     "id": "15f4f6d1-c135-4c78-9821-cc570205b0b6"
    }
   },
   "source": [
    "**Remark.** There are two simple rules about the naming of variables. First, they should always start with an alphabetic character. Second, words used by the Python language are reserved. These names can be found by calling"
   ]
  },
  {
   "cell_type": "code",
   "execution_count": 123,
   "metadata": {
    "nbpresent": {
     "id": "6a76ba0f-ec75-4952-8926-7e5ee49bf893"
    }
   },
   "outputs": [
    {
     "name": "stdout",
     "output_type": "stream",
     "text": [
      "['False', 'None', 'True', 'and', 'as', 'assert', 'break', 'class', 'continue', 'def', 'del', 'elif', 'else', 'except', 'finally', 'for', 'from', 'global', 'if', 'import', 'in', 'is', 'lambda', 'nonlocal', 'not', 'or', 'pass', 'raise', 'return', 'try', 'while', 'with', 'yield']\n"
     ]
    }
   ],
   "source": [
    "import keyword\n",
    "print(keyword.kwlist)"
   ]
  },
  {
   "cell_type": "markdown",
   "metadata": {},
   "source": [
    "## Strings"
   ]
  },
  {
   "cell_type": "markdown",
   "metadata": {},
   "source": [
    "A character string or simply _string_ is a data type encoding text, which is useful for labelling plots, writing diagnostic output, etc. In Python, a string is created whenever text is enclosed between ' or \" quotes. Strings can be concatenated as follows:"
   ]
  },
  {
   "cell_type": "code",
   "execution_count": 124,
   "metadata": {},
   "outputs": [
    {
     "data": {
      "text/plain": [
       "'abcdef'"
      ]
     },
     "execution_count": 124,
     "metadata": {},
     "output_type": "execute_result"
    }
   ],
   "source": [
    "'abc' + 'def'"
   ]
  },
  {
   "cell_type": "markdown",
   "metadata": {},
   "source": [
    "**Exercise 1.3 (strings)**\n",
    "1. Define a new variable named s that has the value `’This is a string’`\n",
    "2. Count the number of characters in s using the function `len()`\n",
    "3. Evaluate `s.split()`. What does this function do?"
   ]
  },
  {
   "cell_type": "code",
   "execution_count": null,
   "metadata": {},
   "outputs": [],
   "source": []
  },
  {
   "cell_type": "markdown",
   "metadata": {},
   "source": [
    "## Lists and tuples"
   ]
  },
  {
   "cell_type": "markdown",
   "metadata": {},
   "source": [
    "The list data type is particular to Python, and very useful. Lists are denotes by square brackets `[]` and can store any kind of other data, and also mixed data. "
   ]
  },
  {
   "cell_type": "code",
   "execution_count": 125,
   "metadata": {},
   "outputs": [
    {
     "data": {
      "text/plain": [
       "list"
      ]
     },
     "execution_count": 125,
     "metadata": {},
     "output_type": "execute_result"
    }
   ],
   "source": [
    "x = [1, 'hello', 10.10]\n",
    "type(x)"
   ]
  },
  {
   "cell_type": "markdown",
   "metadata": {},
   "source": [
    "Many useful library functions exist that can take lists as input, or return a list as output. A tuple is the same as a list, except that it is immutable: the contents may not change after its definition. Tuples are denoted by round brackets `()`."
   ]
  },
  {
   "cell_type": "code",
   "execution_count": 126,
   "metadata": {},
   "outputs": [
    {
     "data": {
      "text/plain": [
       "(tuple, 5)"
      ]
     },
     "execution_count": 126,
     "metadata": {},
     "output_type": "execute_result"
    }
   ],
   "source": [
    "x = (1, 'hello', 10.10, 'there', 55)\n",
    "type(x), len(x)"
   ]
  },
  {
   "cell_type": "markdown",
   "metadata": {},
   "source": [
    "Elements in lists, tuples can be selected by _indexing_ the variable. Indexing is denoted with square brackets `[]` right after the variable name (no space).  "
   ]
  },
  {
   "cell_type": "code",
   "execution_count": 127,
   "metadata": {},
   "outputs": [
    {
     "data": {
      "text/plain": [
       "'hello'"
      ]
     },
     "execution_count": 127,
     "metadata": {},
     "output_type": "execute_result"
    }
   ],
   "source": [
    "x[1]"
   ]
  },
  {
   "cell_type": "markdown",
   "metadata": {},
   "source": [
    "Note that the indexing is zero-based, which means that the first element in the list or tuple has index 0, the second element index 1, etc. Indexing from the rear is also possible with negative indices (-1, -2, ...). "
   ]
  },
  {
   "cell_type": "code",
   "execution_count": 128,
   "metadata": {},
   "outputs": [
    {
     "data": {
      "text/plain": [
       "55"
      ]
     },
     "execution_count": 128,
     "metadata": {},
     "output_type": "execute_result"
    }
   ],
   "source": [
    "x[-1]"
   ]
  },
  {
   "cell_type": "markdown",
   "metadata": {},
   "source": [
    "Multiple elements can be selected by the `:` operator, which signals a range. The starting point is included but not the endpoint. This is comparable to the mathematical notation for domains `[a,b)`."
   ]
  },
  {
   "cell_type": "code",
   "execution_count": 129,
   "metadata": {},
   "outputs": [
    {
     "data": {
      "text/plain": [
       "(1, 'hello')"
      ]
     },
     "execution_count": 129,
     "metadata": {},
     "output_type": "execute_result"
    }
   ],
   "source": [
    "x[0:2]"
   ]
  },
  {
   "cell_type": "markdown",
   "metadata": {},
   "source": [
    "**Exercise 1.4 (Calculations with lists)** \n",
    "1. Define a new list named `yk` with values `1, -1, 8, 3, 2, 0.5, -1.5`.\n",
    "2. Find the number of list elements using the `len()` built-in\n",
    "3. Find the minimum and maximum using `min()`\n",
    "and `max()` built-ins\n",
    "4. The mean of sequence `yk` is given by\n",
    "$$\\overline{y} = \\frac{1}{n}\\sum_{k=1}^{n} y_k.$$ \n",
    "Calculate $\\overline{y}$, making use of the `sum()` built-in.\n",
    "5. Verify that the mean of the last four elements of $y$ is 1.0. Use negative indices."
   ]
  },
  {
   "cell_type": "markdown",
   "metadata": {},
   "source": [
    "## Booleans\n",
    "The _boolean_ (named after George Boole, a 19th century British mathematician) is the logical data type. A boolean can have two states: it is either `True` or `False`. Therefore, it can be internally represented by just a single bit (see the section on bits and bytes). \n",
    "\n",
    "Booleans are indispensible when building logic into your code. For instance, consider the following piece of code:\n",
    "```python\n",
    "if (x<0): \n",
    "   y=0\n",
    "else:\n",
    "   y = x**2\n",
    "```\n",
    "which is the Python equivalent of\n",
    "\\begin{eqnarray*}\n",
    "y(x) =\n",
    "\\begin{cases}\n",
    "x^2 \\qquad & \\mathrm{if} \\; x \\geq 0 \\\\\n",
    "0   \\qquad & \\mathrm{if} \\; x \\lt 0. \\\\\n",
    "\\end{cases}\n",
    "\\end{eqnarray*}"
   ]
  },
  {
   "cell_type": "markdown",
   "metadata": {},
   "source": [
    "The if-statement takes a boolean value as input which it uses to decide which of the two different branches to enter. In this case the boolean is calculated by `x<0`. We could also have written `if (True)` but that is rather trivial and does not help in building logic.\n",
    "\n",
    "As in the example above, booleans can be constructed from numerical values using **comparison operators** `<`, `>`, `<=`, `=>`, `==`. Further, booleans can be combined in various ways using the keywords `and`, `or`, `not`."
   ]
  },
  {
   "cell_type": "code",
   "execution_count": 1,
   "metadata": {},
   "outputs": [
    {
     "name": "stdout",
     "output_type": "stream",
     "text": [
      "True\n",
      "False\n",
      "True\n",
      "False\n"
     ]
    }
   ],
   "source": [
    "print(True and True) \n",
    "print(True and False)\n",
    "print(True or False)\n",
    "print(not True)"
   ]
  },
  {
   "cell_type": "markdown",
   "metadata": {},
   "source": [
    "# Part 2 - flow control"
   ]
  },
  {
   "cell_type": "markdown",
   "metadata": {},
   "source": [
    "## Indentation"
   ]
  },
  {
   "cell_type": "markdown",
   "metadata": {},
   "source": [
    "Flow control is all about structuring your code in logical units. This has two goals, namely A) to make the code behave like it should, and B) in order to avoid code duplication. In other words, we generally always would like to write code that is as short as possible while still performing the task at hand, with little to no duplicate code. For instance, the evaluation of a mathematical function can be done in a Python function (keyword `def`, see below). \n",
    "\n",
    "These logical units of code are called ***code blocks*** and they can be recognized by their *indentation level*. One indentation level consists of a tab or four white spaces. \n",
    "\n",
    "```python\n",
    "# base level \n",
    "def func(do_work):\n",
    "    # indentation level 1\n",
    "    if (do_work):\n",
    "        #indentation level 2\n",
    "        (...)\n",
    "    else:\n",
    "        #indentation level 2 again\n",
    "        pass # empty code block is indicated by 'pass'\n",
    "   \n",
    "    # back to level 1   \n",
    "    print('function func() has finished')   \n",
    "```\n",
    "**Remark.** Realize that indentation is critical to the execution of the code. Failing to indent correctly may lead to errors or, worse, the behaviour of the code is unknowingly incorrect."
   ]
  },
  {
   "cell_type": "markdown",
   "metadata": {},
   "source": [
    "## Conditionals"
   ]
  },
  {
   "cell_type": "markdown",
   "metadata": {},
   "source": [
    "In Python, conditional branching is done using the `if`, `elif` (\"else if\") and `else` statements. Each of these statements must be followed by a code block. Not all branches have to be present at the same time though. \n",
    "\n",
    "```python\n",
    "if (s[0] == 'A'):\n",
    "    print('first character of s is an A')\n",
    "elif (s[0] == 'B'):\n",
    "    print('first character of s is an B')\n",
    "elif (s[0] == 'C'):\n",
    "    print('first character of s is an C')\n",
    "else:\n",
    "    print('first character of s is not any of A,B,C')\n",
    "```\n",
    "\n",
    "**Exercise 2.1 (conditionals)** Consider the same function as before\n",
    "\\begin{eqnarray*}\n",
    "y(x) = \n",
    "\\begin{cases}\n",
    "x^2 \\qquad & \\mathrm{if} \\; x \\geq 0; \\\\\n",
    "0   \\qquad & \\mathrm{if} \\; x < 0\n",
    "\\end{cases}\n",
    "\\end{eqnarray*}\n",
    "We write this into executable code by assigning some random value to `x`. The resulting `y` should to be printed to the screen. "
   ]
  },
  {
   "cell_type": "code",
   "execution_count": 131,
   "metadata": {},
   "outputs": [],
   "source": [
    "x = -1\n",
    "if (x<0): \n",
    "    y=0\n",
    "else:\n",
    "    y = x**2\n",
    "    print(y)"
   ]
  },
  {
   "cell_type": "markdown",
   "metadata": {},
   "source": [
    "In this example the `print` is not executed when `x<0`. \n",
    "1. Repair the code above such that `y` is always printed.\n",
    "2. Write code that implements this function:\n",
    "\\begin{eqnarray*}\n",
    "y(x) = \n",
    "\\begin{cases}\n",
    "x^3 \\qquad & \\mathrm{if} \\; x \\geq 1; \\\\\n",
    "x^2 \\qquad & \\mathrm{if} \\; 0 \\leq x < 1; \\\\\n",
    "\\sqrt(-x)   \\qquad & \\mathrm{if} \\; x < 0\n",
    "\\end{cases}\n",
    "\\end{eqnarray*}\n",
    "using boolean logic."
   ]
  },
  {
   "cell_type": "markdown",
   "metadata": {},
   "source": [
    "## Loops\n",
    "Computers are extremely well suitable for automizing repetitive tasks. In case the repetitive task consists of applying a single operation (arithmetical or otherwise) to many elements (say numbers), a _loop_ can be used to automate the process. The process of automizing this is called _looping_ or _iterating_. One cycle of the loop is called an _iteration_.\n",
    "\n",
    "There are two types of loops: `for`-loops and `while`-loops. A `for`-loop is used when the number of elements (and therefore iterations) is fixed and known at the start. This is the loop type that we will mostly use. The other loop type is the `while`-loop, that can be used to create a conditional loop, that only ends when a certain condition is met (say convergence of an algorithm). \n",
    "\n",
    "**Example.** Given a set of numbers, all of which need to be multipled by 2. You can store the numbers in a list and \"loop over\" the list, which means you take one number at the time until the list has no more elements. "
   ]
  },
  {
   "cell_type": "code",
   "execution_count": 4,
   "metadata": {},
   "outputs": [
    {
     "name": "stdout",
     "output_type": "stream",
     "text": [
      "8\n",
      "2\n",
      "6\n",
      "12\n",
      "0\n"
     ]
    }
   ],
   "source": [
    "xlist = [4, 1, 3, 6, 0]\n",
    "for x in xlist:\n",
    "    print(x*2)"
   ]
  },
  {
   "cell_type": "markdown",
   "metadata": {},
   "source": [
    "In other languages like Fortran or C, `for`-loops are typically performed over a certain monotonous range of numbers, rather than a list. This behaviour can be emulated by using the `range()` built-in, which yields a list with numbers based on start and end point, and optionally, a step size."
   ]
  },
  {
   "cell_type": "code",
   "execution_count": 133,
   "metadata": {},
   "outputs": [
    {
     "data": {
      "text/plain": [
       "[0, 1, 2, 3, 4, 5, 6, 7, 8, 9, 10]"
      ]
     },
     "execution_count": 133,
     "metadata": {},
     "output_type": "execute_result"
    }
   ],
   "source": [
    "list(range(11))    # range(stop)"
   ]
  },
  {
   "cell_type": "code",
   "execution_count": 134,
   "metadata": {},
   "outputs": [
    {
     "data": {
      "text/plain": [
       "[2, 3, 4, 5, 6, 7, 8, 9, 10]"
      ]
     },
     "execution_count": 134,
     "metadata": {},
     "output_type": "execute_result"
    }
   ],
   "source": [
    "list(range(2,11))  # range(start,stop)"
   ]
  },
  {
   "cell_type": "code",
   "execution_count": 135,
   "metadata": {},
   "outputs": [
    {
     "data": {
      "text/plain": [
       "[2, 4, 6, 8, 10]"
      ]
     },
     "execution_count": 135,
     "metadata": {},
     "output_type": "execute_result"
    }
   ],
   "source": [
    "list(range(2,11,2)) # range(start,stop,step)"
   ]
  },
  {
   "cell_type": "markdown",
   "metadata": {},
   "source": [
    "**Exercise 2.2 (strings & loops)** \n",
    "1. Create a string `s` that contains the following sentence: ”lists and tuples are useful for storing data”. \n",
    "2. Use the `s.split()` command to separate the individual words and put them in a list. Store this list as a variable called `s_split`.\n",
    "3. Use the `len()` built-in to find the number of words.\n",
    "2. Write a `for`-loop that iterates every word in the list, and prints it."
   ]
  },
  {
   "cell_type": "code",
   "execution_count": null,
   "metadata": {},
   "outputs": [],
   "source": []
  },
  {
   "cell_type": "markdown",
   "metadata": {},
   "source": [
    "**Exercise 2.3 (list comprehensions)**\n",
    "A Python _list comprehension_ is a quick and elegant way to create lists based on a formula. It uses a `for` loop to determine the number of elements. \n",
    "\n",
    "Let us define a list `fk` that is given by the quadratic polynomial\n",
    "$$f_k = 5 + 2k - 2k^2$$\n",
    "where $k \\in [0,1,\\ldots,12]$. The corresponding list comprehension is given below. \n"
   ]
  },
  {
   "cell_type": "code",
   "execution_count": 136,
   "metadata": {},
   "outputs": [],
   "source": [
    "fk_ = [5 + 2*k - 2*k**2 for k in range(0,13)]"
   ]
  },
  {
   "cell_type": "markdown",
   "metadata": {},
   "source": [
    "1. Write your own `for`-loop that implements the polynomial. Start with an empty list `fk = []` and iteratively add elements to this list using `fk.append()`. In total you'll need 3 lines of code. Compare the result to the list comprehension `fk_`.\n",
    "2. Write a `for`-loop to compute the sum of elements in fk. Check your answer with the `sum()` built-in.\n"
   ]
  },
  {
   "cell_type": "code",
   "execution_count": null,
   "metadata": {},
   "outputs": [],
   "source": []
  },
  {
   "cell_type": "markdown",
   "metadata": {},
   "source": [
    "**Exercise 2.4 (while-loop)** A typical `for`-loop has a fixed number of iterations that is known at the start of the loop. In contrast, the number of iteration in a `while`-loop is not known a priori. It uses a stopping criterion to determine when to break the loop.\n",
    "1. The Fibonacci sequence is given by the equations:\n",
    "\\begin{eqnarray*}\n",
    "\\label{Fibonacci}\n",
    "F_0 &=& 1 \\\\\n",
    "F_1 &=& 1 \\\\\n",
    "F_k &=& F_{k-2} + F_{k-1}\n",
    "\\end{eqnarray*}\n",
    "Using `while`, write Python code that displays all Fibonacci numbers that are lower than 1000. _Hint:_ lists are useless here. Instead, use three scalar variables `fk`, `fkm1`, and `fkm2` (m = minus).\n",
    "2. Add code to verify that the sum of Fibonacci numbers lower than 1000 is 2583."
   ]
  },
  {
   "cell_type": "code",
   "execution_count": null,
   "metadata": {},
   "outputs": [],
   "source": []
  },
  {
   "cell_type": "markdown",
   "metadata": {},
   "source": [
    "## Functions \n",
    "Functions are useful in organizing code and making code re-usable. For example, certain arithmetic calculations are applied at various stages in a program. These calculations may be separated out in a function, thus avoiding code duplication and makeing the code more readable.\n",
    "\n",
    "In Python, a function is defined by the keyword `def`, follwed by a function name, input arguments (if any), and a colon `:`. The following code, with one additional level of indentation, is the function body. The function may have a return value (see below) but this is not required."
   ]
  },
  {
   "cell_type": "code",
   "execution_count": 137,
   "metadata": {},
   "outputs": [
    {
     "data": {
      "text/plain": [
       "100"
      ]
     },
     "execution_count": 137,
     "metadata": {},
     "output_type": "execute_result"
    }
   ],
   "source": [
    "def test_func(x):\n",
    "    return x**2\n",
    "test_func(10)"
   ]
  },
  {
   "cell_type": "markdown",
   "metadata": {},
   "source": [
    "**Exercise 2.5 (functions)**\n",
    "Recall the quadratic polynomial \n",
    "$$f_k = 5 + 2k - 2k^2.$$ \n",
    "Before, we evaluated this function only with integer values. We may rewrite it as\n",
    "$$f(x) = 5+2x−2x^2$$\n",
    "where now $x \\in \\mathbb{R}$. \n",
    "1. Write this as a function named `fx`. Verify that\n",
    "`f(3.5) = −12.5`.\n",
    "2. Write another function `ffx` that calculates $f^2(x) = f(f(x))$. Re-use the code that you wrote under (1). Verify that $f^2(1.0)) = -35$. \n",
    "3. Write a function `gx` that calculates $g(x) = f(x) \\cdot f^2(x) + 1$. Re-use `fx` and `ffx`. Verify that $g(-1) = 6.0$.\n",
    "4. Write a function `func_tuple` that given $x$, returns the tuple $(f(x), f^2(x), g(x))$. Re-use previous code.\n",
    "5. Re-define the function `fx` to\n",
    "\\begin{equation}\n",
    "f(x) = 2 + 0.04 x^2.\n",
    "\\end{equation}\n",
    "Verify that `func_tuple(5)` now yields `(3.0, 2.36, 8.08)`.\n"
   ]
  },
  {
   "cell_type": "code",
   "execution_count": null,
   "metadata": {},
   "outputs": [],
   "source": []
  },
  {
   "cell_type": "markdown",
   "metadata": {},
   "source": [
    "**Remark.** The previous exercise illustrates the power that functions have. Changing a single function definition (in this case, `fx`) triggered other functions (`ffx`, `gx`, `func_tuple`) to also behave differently. "
   ]
  },
  {
   "cell_type": "markdown",
   "metadata": {},
   "source": [
    "# Part 3 - Numpy and matplotlib\n",
    "The [Numpy library](https://docs.scipy.org/doc/numpy/index.html) is great for linear algebra and doing numerical computations efficiently, so we’ll use it heavily during this course. \n",
    "\n",
    "The [Matplotlib library](http://matplotlib.org/) is the golden standard for scientific plotting in Python. It co-operates well with Numpy, meaning that you can directly plot Numpy vectors in Matplotlib. Find an example below of how seamlessly they integrate."
   ]
  },
  {
   "cell_type": "code",
   "execution_count": 6,
   "metadata": {},
   "outputs": [],
   "source": [
    "import numpy as np\n",
    "import matplotlib.pyplot as plt\n",
    "\n",
    "# required for inline displaying of figures in Jupyter\n",
    "%matplotlib inline "
   ]
  },
  {
   "cell_type": "code",
   "execution_count": 169,
   "metadata": {},
   "outputs": [
    {
     "data": {
      "text/plain": [
       "[<matplotlib.lines.Line2D at 0x11a0dfd68>]"
      ]
     },
     "execution_count": 169,
     "metadata": {},
     "output_type": "execute_result"
    },
    {
     "data": {
      "image/png": "[encoded data removed]",
      "text/plain": [
       "<matplotlib.figure.Figure at 0x119e9b5f8>"
      ]
     },
     "metadata": {},
     "output_type": "display_data"
    }
   ],
   "source": [
    "x=np.linspace(0,4*np.pi,25)\n",
    "plt.plot(x,np.sin(x),'s-')"
   ]
  },
  {
   "cell_type": "markdown",
   "metadata": {},
   "source": [
    "## Numpy cheatsheet\n",
    "\n",
    "### Array creation\n",
    "------\n",
    "\n",
    "command|meaning\n",
    "---|---\n",
    "`np.asarray()`|from list\n",
    "`np.diag()`|create matrix diagonal\n",
    "`np.zeros()`, `np.ones()`|all 0 or 1\n",
    "`np.eye()`|identity matrix\n",
    "`np.linspace(begin, end, N)`|samples domain with `N` points\n",
    "`np.arange(begin, end, step)`|creates monotonically increasing or decreasing array \n",
    "`np.random.rand()`| random values\n",
    "`np.mgrid[0:5,0:5]`|mesh grid\n",
    "`np.genfromtxt()`|from file (text)\n",
    "`np.load()`|read previously stored Numpy array from file\n",
    "\n",
    "### Other\n",
    "-------\n",
    "\n",
    "command|meaning\n",
    "---|---\n",
    "`np.pi`, `np.e`|$\\pi$, $e$\n",
    "`np.sqrt()`|square root (element wise)\n",
    "`np.sin()`, `np.cos()`,`np.tan()`|trigoniometric functions (element wise)\n",
    "`np.power(x,y)`| $x^y$\n",
    "`np.log(x)`|$\\ln(x)$\n",
    "`np.sum()`|sum all elements in array \n",
    "`np.sum(axis=)`|sum all elements in array over specified dimension(s)\n",
    "`np.min()`, `np.max()`, `np.mean()`|report min/max/mean over all elements\n",
    "`np.dot(x,y)`|dot product\n",
    "`np.transpose(x)`, `x.T`|$x^T$\n",
    "\n",
    "More commands are found in the [Numpy Reference](https://docs.scipy.org/doc/numpy/reference/index.html).\n"
   ]
  },
  {
   "cell_type": "markdown",
   "metadata": {},
   "source": [
    "## Array operations\n",
    "The central datatype in Numpy is the `ndarray`. An `ndarray` can represent a both vectors and matrices (and higher order objects), depending on its dimensions or _shape_."
   ]
  },
  {
   "cell_type": "code",
   "execution_count": 206,
   "metadata": {},
   "outputs": [
    {
     "name": "stdout",
     "output_type": "stream",
     "text": [
      "[4 5 6]\n"
     ]
    },
    {
     "data": {
      "text/plain": [
       "(3,)"
      ]
     },
     "execution_count": 206,
     "metadata": {},
     "output_type": "execute_result"
    }
   ],
   "source": [
    "x = np.asarray([4,5,6]) # create array from list\n",
    "print(x)\n",
    "x.shape # vector"
   ]
  },
  {
   "cell_type": "markdown",
   "metadata": {},
   "source": [
    "The great power of Numpy arrays is the capability of doing arithmetic directly on these arrays, not their elements, similar to MATLAB. Not only makes this easier-to-read code, the performance is also greatly improved. With lists, arithmetic is only allowed on the elements."
   ]
  },
  {
   "cell_type": "code",
   "execution_count": 164,
   "metadata": {},
   "outputs": [
    {
     "data": {
      "text/plain": [
       "array([ 8, 10, 12])"
      ]
     },
     "execution_count": 164,
     "metadata": {},
     "output_type": "execute_result"
    }
   ],
   "source": [
    "x + x"
   ]
  },
  {
   "cell_type": "markdown",
   "metadata": {},
   "source": [
    "**Exercise 3.1 (arrays)**\n",
    "1. Implement a function that takes as input an array `x` and returns $f(x) = x^2 + \\sin(8x)$. \n",
    "2. Test the function on the 100 `x` values sampled between $[-\\pi, \\pi]$. \n",
    "3. Make a lineplot of `f(x)`"
   ]
  },
  {
   "cell_type": "markdown",
   "metadata": {},
   "source": [
    "## Dimensions & `np.newaxis`"
   ]
  },
  {
   "cell_type": "code",
   "execution_count": 190,
   "metadata": {},
   "outputs": [
    {
     "data": {
      "text/plain": [
       "(10,)"
      ]
     },
     "execution_count": 190,
     "metadata": {},
     "output_type": "execute_result"
    }
   ],
   "source": [
    "x = np.zeros(10) # vector\n",
    "x.shape"
   ]
  },
  {
   "cell_type": "code",
   "execution_count": 152,
   "metadata": {},
   "outputs": [
    {
     "data": {
      "text/plain": [
       "(10, 10)"
      ]
     },
     "execution_count": 152,
     "metadata": {},
     "output_type": "execute_result"
    }
   ],
   "source": [
    "M = np.eye(10) # identity matrix\n",
    "M.shape # matrix "
   ]
  },
  {
   "cell_type": "markdown",
   "metadata": {},
   "source": [
    "In the first example, `x` has only a single dimension, despite the trailing comma. When transposing the vector this is an issue, because the transposed vector will also have just a single dimension. In other words, one-dimensional ndarrays (having only ’rows’) are not readily transformed into something two-dimensional (having ’columns’ and ’rows’), although that would be desired from a mathematical point of view.\n",
    "\n",
    "In order to perform an actual transpose, x needs either two dimensions to start with"
   ]
  },
  {
   "cell_type": "code",
   "execution_count": 208,
   "metadata": {},
   "outputs": [
    {
     "data": {
      "text/plain": [
       "((10, 1), (1, 10))"
      ]
     },
     "execution_count": 208,
     "metadata": {},
     "output_type": "execute_result"
    }
   ],
   "source": [
    "x = np.zeros((10,1))\n",
    "y = x.T # transpose\n",
    "x.shape, y.shape"
   ]
  },
  {
   "cell_type": "markdown",
   "metadata": {},
   "source": [
    "or we need to \"add\" the missing dimension with `np.newaxis` before performing the transpose"
   ]
  },
  {
   "cell_type": "code",
   "execution_count": 204,
   "metadata": {},
   "outputs": [
    {
     "data": {
      "text/plain": [
       "(1, 10)"
      ]
     },
     "execution_count": 204,
     "metadata": {},
     "output_type": "execute_result"
    }
   ],
   "source": [
    "x = np.zeros(10)\n",
    "y = x[:,np.newaxis].T\n",
    "y.shape"
   ]
  },
  {
   "cell_type": "markdown",
   "metadata": {},
   "source": [
    "**Remark.** \"Axis\" is Numpy-speak for \"dimension\"."
   ]
  },
  {
   "cell_type": "markdown",
   "metadata": {},
   "source": [
    "**Exercise 3.2 (vectors)** \n",
    "1. Perform `len()` on the arrays `x` and `y` defined by \n",
    "```python\n",
    "x = np.zeros((10,1))\n",
    "y = x.T \n",
    "```\n",
    "What is the interpretation of `len()` here?\n",
    "2. Consider the code\n",
    "```python\n",
    "for r in vec: \n",
    "      print(r)\n",
    "```\n",
    "What is the interpretation of `r`? Verify your answer using first `vec = x` and then `vec = y`."
   ]
  },
  {
   "cell_type": "markdown",
   "metadata": {},
   "source": [
    "## Selection & indexing"
   ]
  },
  {
   "cell_type": "markdown",
   "metadata": {},
   "source": [
    "Similar to lists, selection of single elements in an array is done through the bracket notation `[]`"
   ]
  },
  {
   "cell_type": "code",
   "execution_count": 254,
   "metadata": {},
   "outputs": [
    {
     "data": {
      "text/plain": [
       "2"
      ]
     },
     "execution_count": 254,
     "metadata": {},
     "output_type": "execute_result"
    }
   ],
   "source": [
    "x = np.arange(5)\n",
    "x[2]"
   ]
  },
  {
   "cell_type": "markdown",
   "metadata": {},
   "source": [
    "When the variable is a matrix, a single element is selected by specifying both row and column:"
   ]
  },
  {
   "cell_type": "code",
   "execution_count": 260,
   "metadata": {},
   "outputs": [
    {
     "data": {
      "text/plain": [
       "0.64207677532852081"
      ]
     },
     "execution_count": 260,
     "metadata": {},
     "output_type": "execute_result"
    }
   ],
   "source": [
    "M = np.random.rand(3,3)\n",
    "M[0,1] # row 0, column 1"
   ]
  },
  {
   "cell_type": "markdown",
   "metadata": {},
   "source": [
    "The entire row is selected when just a single dimension is specified:"
   ]
  },
  {
   "cell_type": "code",
   "execution_count": 263,
   "metadata": {},
   "outputs": [
    {
     "data": {
      "text/plain": [
       "array([ 0.5437085 ,  0.64207678,  0.74504719])"
      ]
     },
     "execution_count": 263,
     "metadata": {},
     "output_type": "execute_result"
    }
   ],
   "source": [
    "M[0] # first row"
   ]
  },
  {
   "cell_type": "markdown",
   "metadata": {},
   "source": [
    "The colon `:` stands for _all_. So to select a single column, we specify _all rows_ of that column:"
   ]
  },
  {
   "cell_type": "code",
   "execution_count": 264,
   "metadata": {},
   "outputs": [
    {
     "data": {
      "text/plain": [
       "array([ 0.5437085 ,  0.81663738,  0.93362806])"
      ]
     },
     "execution_count": 264,
     "metadata": {},
     "output_type": "execute_result"
    }
   ],
   "source": [
    "M[:,0] # first column"
   ]
  },
  {
   "cell_type": "markdown",
   "metadata": {},
   "source": [
    "Numpy operations can readily be performed on such sub-matrices, which are called **slices**. "
   ]
  },
  {
   "cell_type": "code",
   "execution_count": 266,
   "metadata": {},
   "outputs": [
    {
     "data": {
      "text/plain": [
       "0.76465797798229918"
      ]
     },
     "execution_count": 266,
     "metadata": {},
     "output_type": "execute_result"
    }
   ],
   "source": [
    "np.mean(M[:,0]) # mean value of first column"
   ]
  },
  {
   "cell_type": "markdown",
   "metadata": {},
   "source": [
    "**Exercise 3.3 (statistics)** Two-dimensional Numpy arrays do not always represent matrices, they may also be used to store data. Results from a computer simulation for example, or field measurements. \n",
    "\n",
    "Japanese researchers take great interest in radioactive decay. The radioactivity of three different samples $(s_1, s_2, s_3)$ was tested at four different times. This yielded the following table:\n",
    "\n",
    "Activity [-] | t = 0 | t = 1 | t = 2 | t = 3\n",
    "---|---|---|---|---\n",
    "$s_1$|8.5|4.3|2.5|2.8\n",
    "$s_2$|10.1|5.9|2.3|1.1\n",
    "$s_3$|5.0|-1.0|4.6|4.4\n",
    "\n",
    "1. Define this table manually as $A_0$: `A0 = np.asarray([[8.5,4.3,3.5,2.8], [..], [..]])`\n",
    "\n",
    "2. The value -1.0 in $A_0$ represents a measurement failure. Repair this element by substituting $s_3$’s mean activity at t = 0 and t = 2. Use array indices `[]` to do this.\n",
    "\n",
    "3. The measuring device was found to have a consistent bias of 0.1. Subtract the bias from all values in $A_0$ and store the result as $A_1$.\n",
    "\n",
    "4. Determine the average activity at t = 0, using array slicing and np.mean().\n",
    "\n",
    "5. Determine the average activity for all times, using the axis argument of function `np.mean()`. Recall that ’axis’ means dimension in Numpy.\n",
    "\n",
    "6. The standard deviation is calculated using `np.std()`. At what time is the spread across samples smallest?\n",
    "\n",
    "7. Determine the sample means. Subtract the sample means from the sample measurements, and store the result as $A_2$. \n",
    "\n",
    "8. Visualise the results using \n",
    "```python\n",
    "plt.imshow(A2)\n",
    "plt.colorbar()\n",
    "```"
   ]
  },
  {
   "cell_type": "markdown",
   "metadata": {},
   "source": [
    "## Multiplications"
   ]
  },
  {
   "cell_type": "markdown",
   "metadata": {},
   "source": [
    "In Numpy, there are two different product operators:\n",
    "$$x * y$$\n",
    "$$x \\cdot y$$\n",
    "that are represented by `*` and `np.dot`, respectively. In the first, element-wise multiplication, each element of x is multiplied by each corresponding element of y. The second is the mathematical dot product."
   ]
  },
  {
   "cell_type": "markdown",
   "metadata": {},
   "source": [
    "**Exercise 3.4 (multiplication)**\n",
    "1. Define `I` as the 10 x 10 identity matrix (see cheatsheet above), and `x = np.arange(10)[:,np.newaxis]`.\n",
    "2. Report `I.shape` and `x.shape`.\n",
    "3. Even though the number of elements is not the same, `I*x` will succeed. Explain what happens.\n",
    "4. Report `np.dot(I,x)` and `np.dot(x,I)`. Explain the message using your knowledge of linear algebra."
   ]
  },
  {
   "cell_type": "markdown",
   "metadata": {},
   "source": [
    "## Broadcasting"
   ]
  },
  {
   "cell_type": "markdown",
   "metadata": {},
   "source": [
    "In the previous exercise, we could element-wise multiply (`*`) matrix $I$ and vector $x$ even when they did not have the same size. This is enabled through a feature of Numpy called **broadcasting**. It simply means when one array is smaller than another, Numpy will try to \"duplicate\" the smaller array in order to match the larger. In the case of $I$ and $x$, $I$ had 10 columns whereas $x$ had just one. But this array\n",
    "$$[x \\; x \\;x \\;x \\;x \\;x \\;x \\;x \\;x \\;x]$$\n",
    "also has 10 columns and can be multiplied (element-wise) by $I$. \n",
    "\n",
    "Broadcasting happens automatically and without warning. It is mostly a blessing (for example: when multiplying a matrix by a scalar) but it can also be a curse and make for nasty bugs. One general recommendation is to inspect dimensions sizes regularly (`.shape`) to make sure you are computing the right thing.\n",
    "\n",
    "**Remark.** Broadcasting is not used in `np.dot` because it would lead to ambiguities. "
   ]
  },
  {
   "cell_type": "markdown",
   "metadata": {},
   "source": [
    "## Soft vs. hard copies"
   ]
  },
  {
   "cell_type": "markdown",
   "metadata": {},
   "source": [
    "Consider the following code."
   ]
  },
  {
   "cell_type": "code",
   "execution_count": 239,
   "metadata": {},
   "outputs": [
    {
     "data": {
      "text/plain": [
       "array([ 0,  1,  2,  3, -1])"
      ]
     },
     "execution_count": 239,
     "metadata": {},
     "output_type": "execute_result"
    }
   ],
   "source": [
    "x = np.arange(5)\n",
    "y = x\n",
    "y[-1] = -1\n",
    "x"
   ]
  },
  {
   "cell_type": "markdown",
   "metadata": {},
   "source": [
    "Observe that by changing the last element in `y` we also changed the last element in `x`. This is because `y` is a so-called **soft copy** of `x`, also known as a *pointer* or a *reference*. We say that `x` and `y` are *aliased*, which means that they are corresponding to exactly the same piece of random-access memory (RAM)."
   ]
  },
  {
   "cell_type": "markdown",
   "metadata": {},
   "source": [
    "![aliased](https://raw.githubusercontent.com/lvankampenhout/NM2018-python/master/aliased.png)"
   ]
  },
  {
   "cell_type": "markdown",
   "metadata": {},
   "source": [
    "Now, by changing one, we are also changing the other. Unfortunately, soft copying is the default behaviour in Numpy when doing a direct assignment (`=`) and it is good to be aware of this. The advantage of soft copying is that it is much faster than the alternative: **hard copying**, which requires that the contents of the array are copied."
   ]
  },
  {
   "cell_type": "code",
   "execution_count": 238,
   "metadata": {},
   "outputs": [
    {
     "data": {
      "text/plain": [
       "array([0, 1, 2, 3])"
      ]
     },
     "execution_count": 238,
     "metadata": {},
     "output_type": "execute_result"
    }
   ],
   "source": [
    "x = np.arange(4)\n",
    "y = x.copy()\n",
    "y[-1] = -1\n",
    "x"
   ]
  },
  {
   "cell_type": "markdown",
   "metadata": {},
   "source": [
    "**Exercise 3.5 (soft copies)**\n",
    "Consider the following function that computes $x^2$ and erases the last element in the array."
   ]
  },
  {
   "cell_type": "code",
   "execution_count": 284,
   "metadata": {},
   "outputs": [],
   "source": [
    "def squareXAndZeroLastElement(x, do_square=True):\n",
    "    # Returns x**2 with last element zeroed out.\n",
    "    if (do_square):\n",
    "        y = x**2\n",
    "    else:\n",
    "        y = x\n",
    "    y[-1] = 0\n",
    "    return y"
   ]
  },
  {
   "cell_type": "markdown",
   "metadata": {},
   "source": [
    "1. Define a vector `x` running from 0 to 5.\n",
    "2. Execute the function with `squareXAndZeroLastElement(x)` and print the result. Verify that `x` is unchanged.\n",
    "3. The function has a second Boolean parameter `do_square` that is optional. When this parameter is set to `False` observe that the squaring is disabled. Execute `squareXAndZeroLastElement(x, do_square=False)` and print the result. What happened to your original `x`?\n",
    "4. Repair the function such that it never changes the input argument `x`."
   ]
  },
  {
   "cell_type": "markdown",
   "metadata": {},
   "source": [
    "## Mask arrays\n",
    "In the context of Numpy, a **mask** is defined as a boolean matrix that has the same size as your data array. Masks are useful for selecting elements in an array or matrix. \n",
    "\n",
    "**Example.** In climate science, output is usually generated on a latitude-longitude grid with dimensions $N \\times M$. Some points of the grid will part of the land, and some part of the ocean. We can use a land-mask (`mask_land`) to distinguish between the two. Given a field named `precip` that represents precipitation we'd have\n",
    "\n",
    "expression|selection\n",
    "---|---\n",
    "`precip[:,:]`| all points\n",
    "`precip[mask_land]`| only land points\n",
    "`precip[~mask_land]`| only ocean points\n",
    "\n",
    "A mask can be created by one of the comparison operators `<`, `>`, `>=`, `<=` , `==`, `!=`. For instance, to select all points that have precipitation $> 100$ mm, we could say `mask_100mm = precip > 100`. \n",
    "\n",
    "Arrays may be indexed by masks. "
   ]
  },
  {
   "cell_type": "markdown",
   "metadata": {},
   "source": [
    "**Exercise 3.6 (masking)**\n",
    "1. Create a 5 × 5 matrix `M` filled with random elements, drawn from a uniform distribution over the interval $[−1, 1)$. Use `np.random.rand()`, which draws from the interval $[0, 1)$.\n",
    "2. Create a mask `mymask`, that is equal `True` where $−0.2 < M_{i,j} \\leq 0.2$, and `False` elsewhere.\n",
    "3. Count the number of $M_{i,j}$ where $−0.2 < M_{i,j} \\leq 0.2$ using `np.sum()`. Check by hand.\n",
    "4. Create a new matrix `P = np.zeros(M.shape)`. Now set $P_{i,j} = M_{i,j}$ where $M_{i,j} > 0$ using a mask.\n",
    "5. Create a function `blankSubzeroValues()`, that takes a matrix as an input. The function then sets any values that < 0 to zero and returns the result. Test by comparing `Q = blankSubzeroValues(M)` to `P`.\n",
    "6. Extend this function as follows. Use `print()` to report the message:\n",
    "     `X values have been blanked`\n",
    "where `X` is of course the actual number of entries that have been set to zero. Only report this message if 2 or more values have been blanked."
   ]
  },
  {
   "cell_type": "code",
   "execution_count": null,
   "metadata": {},
   "outputs": [],
   "source": []
  },
  {
   "cell_type": "markdown",
   "metadata": {},
   "source": [
    "## Conditional selection\n",
    "Conditional selection builds on the idea of masking, and in many cases makes for shorter and better-to-read code. The command that is used is \n",
    "\n",
    "```python\n",
    "Z = np.where(cond, X, Y)\n",
    "```\n",
    "\n",
    "with `cond` a condition or Boolean matrix. On all points where the condition evaluates to `True`, $X_{i,j}$ is returned, and $Y_{i,j}$ otherwise. In mathematical notation this can be stated as\n",
    "$$ Z_{i,j} = \n",
    "\\begin{cases}\n",
    "X_{i,j} \\qquad &\\mathrm{if} \\quad \\mathrm{cond}_{i,j} \\\\\n",
    "Y_{i,j} \\qquad &\\mathrm{if} \\quad \\mathrm{not} \\, \\mathrm{cond}_{i,j}\n",
    "\\end{cases}$$\n",
    "Note that because of Numpy broadcasting, X and Y need not be full arrays, they can also be scalars or vectors with \"equivalent\" shapes. \n",
    "\n"
   ]
  },
  {
   "cell_type": "markdown",
   "metadata": {},
   "source": [
    "**Exercise 3.7 (where)** \n",
    "1. In the previous exercise we needed two statements to create $P$ that  $P_{i,j} = M_{i,j}$ where $M_{i,j} > 0$ and zero otherwise. Redefine $P$ using `np.where` in a single statement."
   ]
  },
  {
   "cell_type": "markdown",
   "metadata": {},
   "source": [
    "## Figures & axes"
   ]
  },
  {
   "cell_type": "markdown",
   "metadata": {},
   "source": [
    "Plotting library Matplotlib is built around two main concepts: *figures* and *axes*. A figure is the canvas or the white sheet onto which everything is drawn, including non-data related stuff like colorbars or legends. On the other hand, the axes is just the area in which the data is drawn, i.e. the xy-space. \n",
    "\n",
    "**Remark.** This means that the Matplotlib usage of ’axes’ differs from the Numpy ’axis’, which was equivalent to ’dimension’. Confusingly, Matplotlib also knows a concept of ’axis’, which are the x-axis and y-axis. Luckily, these are only rarily needed.\n",
    "\n",
    "Generally there exist two different ways of plotting: \n",
    "* with objects\n",
    "* interactively (state machine like MATLAB, `matplotlib.pyplot`)"
   ]
  },
  {
   "cell_type": "code",
   "execution_count": 321,
   "metadata": {},
   "outputs": [
    {
     "data": {
      "text/plain": [
       "[<matplotlib.lines.Line2D at 0x11c1e2940>]"
      ]
     },
     "execution_count": 321,
     "metadata": {},
     "output_type": "execute_result"
    },
    {
     "data": {
      "image/png": "[encoded data removed]",
      "text/plain": [
       "<matplotlib.figure.Figure at 0x11c128240>"
      ]
     },
     "metadata": {},
     "output_type": "display_data"
    }
   ],
   "source": [
    "# Plotting with objects\n",
    "fig = plt.figure()         # create new figure\n",
    "ax = fig.add_subplot(111) # create new axes inside figure; 1 row, 1 column\n",
    "ax.plot(np.arange(10))"
   ]
  },
  {
   "cell_type": "markdown",
   "metadata": {},
   "source": [
    "In this example just one axes object exists in the canvas (figure), named `ax`. Now the following lines of code to create the same plot using the state machine interface (pyplot):"
   ]
  },
  {
   "cell_type": "code",
   "execution_count": 307,
   "metadata": {},
   "outputs": [
    {
     "data": {
      "text/plain": [
       "[<matplotlib.lines.Line2D at 0x11bd0b160>]"
      ]
     },
     "execution_count": 307,
     "metadata": {},
     "output_type": "execute_result"
    },
    {
     "data": {
      "image/png": "[encoded data removed]",
      "text/plain": [
       "<matplotlib.figure.Figure at 0x11bb53550>"
      ]
     },
     "metadata": {},
     "output_type": "display_data"
    }
   ],
   "source": [
    "# Plotting interactively\n",
    "plt.plot(np.arange(10))"
   ]
  },
  {
   "cell_type": "markdown",
   "metadata": {},
   "source": [
    "Awesome, we only need 1 line of code, instead of three. For now, we recommend that you use this interactive interface, because its simpler to use. Using `pyplot` means that all plotting command starts with `plt.xx`. Just remember that this way of plotting is less flexible, because the axes are not named and cannot be re-used or modified by functions. To learn more about the anatomy of a figure, and the different styles of plotting, see the [Matplotlib FAQ](matplotlib.org/faq/usage_faq.html)."
   ]
  },
  {
   "cell_type": "markdown",
   "metadata": {},
   "source": [
    "**Exercise 3.8 (lineplots)** Lineplots or $xy$−plots are the most simple kind of plot. First, the domain $[0,2\\pi]$ is \"discretized\" or divided into segments. We’ll start off with a rather coarse discretization:\n",
    "$$x = [0, 0.5, 1, 1.5, 2] \\pi$$\n",
    "1. Create an ndarray named x containing these values.\n",
    "2. Calculate $y_1 = sin(x)$ and plot the result using `plt.plot(x,y1,’-s’)`. Explain whether you are happy with the discretization.\n",
    "\n",
    "    The squares in the figure you just produced are called _vertices_. Mathematically speaking, the vertices are a discrete set ${x_0,x_1,...,x_N}$ at which the function $y$ is evaluated. The `s` in the plotting command stands for ’square’ which is the marker type drawn at every vertex. The `-` stands for ’solid line’ which connects the vertices using straight line segments.  \n",
    "    \n",
    "3. Increasing the resolution of x (the spacing of vertices) can be done by hand, which is cumbersome and prone to errors. Instead, use a list comprehension to generate the vertices, ideally converting them into an ndarray afterwards. Alternatively, use `np.linspace()`. Discretize the same domain, but now with 10 vertices (`np.size(x) = 10`) and remake the sine-plot. Verify that there are 9 segments in the graph. Why 9?\n",
    "4. Remake the plot with 100 vertices. Drop the ’s’ in the plot command to get rid of the markers. How many line segments are there now?\n",
    "5. In the same plot, draw $y_2 = cos(x)$. Then make the following additions:\n",
    "    * put axis labels\n",
    "    * change line thicknesses to 2.0\n",
    "    * add function descriptions as text annotations, each in their respective color\n",
    "    * change the ticks on the x-axis such that it has ticklabels $0$, $\\pi$, and $2\\pi$, at the correct positions   \n",
    "    \n",
    "  Using this [J.R. Johanssons notebook](http://nbviewer.jupyter.org/github/jrjohansson/scientific-python-lectures/blob/master/Lecture-4-Matplotlib.ipynb) as a reference  "
   ]
  },
  {
   "cell_type": "markdown",
   "metadata": {},
   "source": [
    "## Subplots"
   ]
  },
  {
   "cell_type": "markdown",
   "metadata": {},
   "source": [
    "More elaborate plots usually requires you to switch to the object interface. For example, when you want to create multiple axes in one figure."
   ]
  },
  {
   "cell_type": "code",
   "execution_count": 331,
   "metadata": {},
   "outputs": [
    {
     "data": {
      "image/png": "[encoded data removed]",
      "text/plain": [
       "<matplotlib.figure.Figure at 0x11e3b3198>"
      ]
     },
     "metadata": {},
     "output_type": "display_data"
    }
   ],
   "source": [
    "fig = plt.figure()         # create new figure\n",
    "ax1 = fig.add_subplot(121) # create new axes inside figure; 1 row, 2 columns\n",
    "ax2 = fig.add_subplot(122) # create new axes inside figure; 1 row, 2 columns"
   ]
  },
  {
   "cell_type": "markdown",
   "metadata": {},
   "source": [
    "# Part 4 - miscellaneous "
   ]
  },
  {
   "cell_type": "markdown",
   "metadata": {},
   "source": [
    "## Modules"
   ]
  },
  {
   "cell_type": "markdown",
   "metadata": {},
   "source": [
    "External modules or libraries are imported with the `import` statement"
   ]
  },
  {
   "cell_type": "code",
   "execution_count": 314,
   "metadata": {},
   "outputs": [],
   "source": [
    "import numpy"
   ]
  },
  {
   "cell_type": "markdown",
   "metadata": {},
   "source": [
    "This will import the library functions as `numpy.sin`, `numpy.cos`, ... To save space, it is the convention to rename the library to `np` using the `as` keyword"
   ]
  },
  {
   "cell_type": "code",
   "execution_count": 315,
   "metadata": {},
   "outputs": [],
   "source": [
    "import numpy as np"
   ]
  },
  {
   "cell_type": "markdown",
   "metadata": {},
   "source": [
    "One could even save more space by importing the library contents without any prefix (`sin`, `cos`, ...) using the wildcard operator (`*`) yet this is **highly discouraged** because A) it obfuscates the origin of functions and B) will likely lead to _variable name clashes_."
   ]
  },
  {
   "cell_type": "code",
   "execution_count": 316,
   "metadata": {},
   "outputs": [],
   "source": [
    "from numpy import * # not recommended"
   ]
  },
  {
   "cell_type": "markdown",
   "metadata": {},
   "source": [
    "Sometimes you don't need the full library but just one or two functions. In that case you could use `from` in combination with the specific function names."
   ]
  },
  {
   "cell_type": "code",
   "execution_count": 320,
   "metadata": {},
   "outputs": [],
   "source": [
    "from numpy import sqrt # this is OK, since it allows insight into the origin of sqrt()"
   ]
  }
 ],
 "metadata": {
  "kernelspec": {
   "display_name": "Python [default]",
   "language": "python",
   "name": "python3"
  },
  "language_info": {
   "codemirror_mode": {
    "name": "ipython",
    "version": 3
   },
   "file_extension": ".py",
   "mimetype": "text/x-python",
   "name": "python",
   "nbconvert_exporter": "python",
   "pygments_lexer": "ipython3",
   "version": "3.6.4"
  }
 },
 "nbformat": 4,
 "nbformat_minor": 2
}
